{
 "cells": [
  {
   "cell_type": "code",
   "execution_count": 1,
   "id": "bdfd7f2a-fe8a-4b0a-a40c-90755ce270f0",
   "metadata": {},
   "outputs": [
    {
     "name": "stdout",
     "output_type": "stream",
     "text": [
      "Hola mundo...\n"
     ]
    }
   ],
   "source": [
    "# Indentación\n",
    "print(\"Hola mundo...\")"
   ]
  },
  {
   "cell_type": "code",
   "execution_count": 5,
   "id": "7acc6fdd-3e2a-4d10-bafa-69a216dbc01f",
   "metadata": {},
   "outputs": [
    {
     "name": "stdout",
     "output_type": "stream",
     "text": [
      "Verdadero\n"
     ]
    }
   ],
   "source": [
    "x = 5\n",
    "if x == 5:\n",
    "    print(\"Verdadero\")\n",
    "else:\n",
    "    print(\"Falso\")"
   ]
  },
  {
   "cell_type": "code",
   "execution_count": 6,
   "id": "7348e3ba-c1c9-4157-8c35-c8c1d0bf8514",
   "metadata": {},
   "outputs": [
    {
     "name": "stdout",
     "output_type": "stream",
     "text": [
      "1\n"
     ]
    }
   ],
   "source": [
    "### Comentario\n",
    "print(1)"
   ]
  },
  {
   "cell_type": "code",
   "execution_count": 7,
   "id": "1245bfa6-1c18-4977-b638-b75b7308bd1e",
   "metadata": {},
   "outputs": [],
   "source": [
    "# Variables\n",
    "a = 5\n",
    "b = \"Datapath\"\n",
    "c = 2.5"
   ]
  },
  {
   "cell_type": "code",
   "execution_count": 8,
   "id": "31a9e8ba-cc09-49ba-af08-4a6ba30eb60c",
   "metadata": {},
   "outputs": [
    {
     "name": "stdout",
     "output_type": "stream",
     "text": [
      "<class 'int'>\n"
     ]
    }
   ],
   "source": [
    "print(type(a))"
   ]
  },
  {
   "cell_type": "code",
   "execution_count": 9,
   "id": "38e7aad5-6b7c-4adb-b15b-04d0f650738d",
   "metadata": {},
   "outputs": [
    {
     "name": "stdout",
     "output_type": "stream",
     "text": [
      "<class 'str'>\n"
     ]
    }
   ],
   "source": [
    "print(type(b))"
   ]
  },
  {
   "cell_type": "code",
   "execution_count": 10,
   "id": "dd8f0407-bebf-4d27-848d-ebf0ac6197a3",
   "metadata": {},
   "outputs": [
    {
     "name": "stdout",
     "output_type": "stream",
     "text": [
      "<class 'float'>\n"
     ]
    }
   ],
   "source": [
    "print(type(c))"
   ]
  },
  {
   "cell_type": "code",
   "execution_count": 11,
   "id": "7a609a8d-fad5-4083-9e2a-b91e359df689",
   "metadata": {},
   "outputs": [],
   "source": [
    "x,y,z = \"Lunes\", \"Martes\", \"Miercoles\""
   ]
  },
  {
   "cell_type": "code",
   "execution_count": 12,
   "id": "c801336e-2def-4159-a53d-4e7cf47444c9",
   "metadata": {},
   "outputs": [
    {
     "name": "stdout",
     "output_type": "stream",
     "text": [
      "Lunes\n"
     ]
    }
   ],
   "source": [
    "print(x)"
   ]
  },
  {
   "cell_type": "code",
   "execution_count": 13,
   "id": "e30018e9-0b64-49e2-b94c-d85e9d32ba31",
   "metadata": {},
   "outputs": [
    {
     "name": "stdout",
     "output_type": "stream",
     "text": [
      "Martes\n"
     ]
    }
   ],
   "source": [
    "print(y)"
   ]
  },
  {
   "cell_type": "code",
   "execution_count": 14,
   "id": "d5af741a-d8c5-40d2-8479-2768c53ffb6c",
   "metadata": {},
   "outputs": [
    {
     "name": "stdout",
     "output_type": "stream",
     "text": [
      "Miercoles\n"
     ]
    }
   ],
   "source": [
    "print(z)"
   ]
  },
  {
   "cell_type": "code",
   "execution_count": 15,
   "id": "e12633b3-2c19-4a11-8ed9-b08ae0fda959",
   "metadata": {},
   "outputs": [],
   "source": [
    "## Tipos de datos"
   ]
  },
  {
   "cell_type": "code",
   "execution_count": 16,
   "id": "11c42ec6-7235-44ed-9b47-ae69812a27b2",
   "metadata": {},
   "outputs": [
    {
     "name": "stdout",
     "output_type": "stream",
     "text": [
      "L\n"
     ]
    }
   ],
   "source": [
    "print(x[0])"
   ]
  },
  {
   "cell_type": "code",
   "execution_count": 17,
   "id": "f08687a7-0e7c-46f5-af41-af2241a3a7c6",
   "metadata": {},
   "outputs": [
    {
     "name": "stdout",
     "output_type": "stream",
     "text": [
      "Lun\n"
     ]
    }
   ],
   "source": [
    "print(x[0:3])"
   ]
  },
  {
   "cell_type": "code",
   "execution_count": 18,
   "id": "3c44c598-f580-4bf1-a1c2-3d5f9f31bca1",
   "metadata": {},
   "outputs": [],
   "source": [
    "## Numericos"
   ]
  },
  {
   "cell_type": "code",
   "execution_count": 3,
   "id": "7ed14e98-b865-4a86-b7f9-8f69e941eaef",
   "metadata": {},
   "outputs": [],
   "source": [
    "a = 10\n",
    "b = 5.25\n",
    "c = 3.14j\n"
   ]
  },
  {
   "cell_type": "code",
   "execution_count": 4,
   "id": "b3a335a0-0ad6-4257-95c3-61ed12cc4dfb",
   "metadata": {},
   "outputs": [
    {
     "name": "stdout",
     "output_type": "stream",
     "text": [
      "<class 'int'>\n",
      "<class 'float'>\n",
      "<class 'complex'>\n"
     ]
    }
   ],
   "source": [
    "print(type(a))\n",
    "print(type(b))\n",
    "print(type(c))"
   ]
  },
  {
   "cell_type": "code",
   "execution_count": 5,
   "id": "ff5951ef-25c6-4684-b061-280bda0fe6e8",
   "metadata": {},
   "outputs": [],
   "source": [
    "## Listas"
   ]
  },
  {
   "cell_type": "code",
   "execution_count": 6,
   "id": "fb43f55f-3e52-4d52-86ec-842d77d4beb2",
   "metadata": {},
   "outputs": [],
   "source": [
    "lista = []"
   ]
  },
  {
   "cell_type": "code",
   "execution_count": 8,
   "id": "ece995bc-6c35-4671-9f07-123a49499686",
   "metadata": {},
   "outputs": [
    {
     "name": "stdout",
     "output_type": "stream",
     "text": [
      "[1, 2, 3, 4]\n"
     ]
    }
   ],
   "source": [
    "lista = [1,2,3,4]\n",
    "print(lista)"
   ]
  },
  {
   "cell_type": "code",
   "execution_count": 9,
   "id": "510ab9da-49b4-4942-9b2b-79e49ee95dc8",
   "metadata": {},
   "outputs": [
    {
     "name": "stdout",
     "output_type": "stream",
     "text": [
      "[1, 'Lunes', 23, 2.4]\n"
     ]
    }
   ],
   "source": [
    "lista = [1,\"Lunes\",23,2.4]\n",
    "print(lista)"
   ]
  },
  {
   "cell_type": "code",
   "execution_count": 10,
   "id": "4ac0fb2f-94d0-4c29-aab1-6d97445f9b78",
   "metadata": {},
   "outputs": [
    {
     "name": "stdout",
     "output_type": "stream",
     "text": [
      "[1, 'Lunes', [5, 6, 7], ['x']]\n"
     ]
    }
   ],
   "source": [
    "lista = [1,\"Lunes\",[5,6,7],[\"x\"]]\n",
    "print(lista)"
   ]
  },
  {
   "cell_type": "code",
   "execution_count": 2,
   "id": "a000e6d5-984c-45a0-a30b-2b9182dc62d4",
   "metadata": {},
   "outputs": [
    {
     "name": "stdout",
     "output_type": "stream",
     "text": [
      "c\n"
     ]
    }
   ],
   "source": [
    "lista1 = [\"a\",\"b\",\"c\",\"d\",\"e\",\"f\"]\n",
    "print(lista1[2])"
   ]
  },
  {
   "cell_type": "code",
   "execution_count": 14,
   "id": "8f17a10a-9c20-44b0-8449-37ef5afc3d97",
   "metadata": {},
   "outputs": [
    {
     "name": "stdout",
     "output_type": "stream",
     "text": [
      "6\n"
     ]
    }
   ],
   "source": [
    "print(lista[2][1])"
   ]
  },
  {
   "cell_type": "code",
   "execution_count": 15,
   "id": "1ba76abb-8e7e-47a2-bc35-5d299892aa9a",
   "metadata": {},
   "outputs": [
    {
     "name": "stdout",
     "output_type": "stream",
     "text": [
      "['b', 'c', 'd']\n"
     ]
    }
   ],
   "source": [
    "print(lista1[1:4])"
   ]
  },
  {
   "cell_type": "code",
   "execution_count": 16,
   "id": "9d12e323-cabb-4af3-ac34-211bac97876e",
   "metadata": {},
   "outputs": [
    {
     "name": "stdout",
     "output_type": "stream",
     "text": [
      "['c', 'd', 'e', 'f']\n"
     ]
    }
   ],
   "source": [
    "print(lista1[2:])"
   ]
  },
  {
   "cell_type": "code",
   "execution_count": 17,
   "id": "f11678b2-efbd-4ab1-b928-a27b130dfc66",
   "metadata": {},
   "outputs": [
    {
     "name": "stdout",
     "output_type": "stream",
     "text": [
      "['a', 'b', 'c', 'd', 'e', 'f']\n"
     ]
    }
   ],
   "source": [
    "print(lista1[:])"
   ]
  },
  {
   "cell_type": "code",
   "execution_count": 3,
   "id": "39d503a9-e5b4-42b5-92e4-692126cacbe0",
   "metadata": {},
   "outputs": [
    {
     "name": "stdout",
     "output_type": "stream",
     "text": [
      "['x', 'b', 'c', 'd', 'e', 'f']\n"
     ]
    }
   ],
   "source": [
    "lista1[0] = \"x\"\n",
    "print(lista1)"
   ]
  },
  {
   "cell_type": "code",
   "execution_count": 4,
   "id": "73e8de55-5bc3-427c-a4be-e4462938459c",
   "metadata": {},
   "outputs": [
    {
     "name": "stdout",
     "output_type": "stream",
     "text": [
      "['x', 'y', 'z', 'd', 'e', 'f']\n"
     ]
    }
   ],
   "source": [
    "lista1[1:3] = [\"y\",\"z\"]\n",
    "print(lista1)"
   ]
  },
  {
   "cell_type": "code",
   "execution_count": 5,
   "id": "db983d9d-7f9c-487a-a304-95143e9d9f10",
   "metadata": {},
   "outputs": [
    {
     "name": "stdout",
     "output_type": "stream",
     "text": [
      "['x', 'y', 'z', 'd', 'e', 'f', 'g']\n"
     ]
    }
   ],
   "source": [
    "lista1.append(\"g\")\n",
    "print(lista1)"
   ]
  },
  {
   "cell_type": "code",
   "execution_count": 6,
   "id": "2310ab01-a267-4f98-a762-628a5f86670f",
   "metadata": {},
   "outputs": [
    {
     "name": "stdout",
     "output_type": "stream",
     "text": [
      "['x', 'y', 'z', 'd', 'e', 'f', 'g', 9, 1, 3]\n"
     ]
    }
   ],
   "source": [
    "lista1.extend([9,1,3])\n",
    "print(lista1)"
   ]
  },
  {
   "cell_type": "code",
   "execution_count": 8,
   "id": "fb26b21d-5b26-45ca-a79b-8b807b8131c5",
   "metadata": {},
   "outputs": [
    {
     "name": "stdout",
     "output_type": "stream",
     "text": [
      "x\n",
      "y\n",
      "z\n",
      "d\n",
      "e\n",
      "f\n",
      "g\n",
      "9\n",
      "1\n",
      "3\n"
     ]
    }
   ],
   "source": [
    "for var in lista1:\n",
    "    print(var)"
   ]
  },
  {
   "cell_type": "code",
   "execution_count": 9,
   "id": "31ef0ecf-2f45-42dd-a94b-867e5756d41d",
   "metadata": {},
   "outputs": [],
   "source": [
    "## Tuplas - a diferencia de las listas, no se pueden reemplazar los valores asignados, \n",
    "## pero si se pueden sobreescribir sus valores"
   ]
  },
  {
   "cell_type": "code",
   "execution_count": 10,
   "id": "444f90db-3ed3-4d5f-aedf-aebc869c35b7",
   "metadata": {},
   "outputs": [
    {
     "name": "stdout",
     "output_type": "stream",
     "text": [
      "(1, 2, 3, 4)\n",
      "(1, 1.2, 'Lunes')\n",
      "(1, 1.2, ('Lunes', 'Martes'))\n"
     ]
    }
   ],
   "source": [
    "# Tupla de enteros\n",
    "tupla = (1,2,3,4)\n",
    "print(tupla)\n",
    "# Tupla mixta\n",
    "tupla1 = (1, 1.2 ,\"Lunes\")\n",
    "print(tupla1)\n",
    "# Tupla anidada\n",
    "tupla2 = (1, 1.2, (\"Lunes\",\"Martes\"))\n",
    "print(tupla2)"
   ]
  },
  {
   "cell_type": "code",
   "execution_count": 11,
   "id": "228bd376-4e85-4f3d-8776-34c088300a8a",
   "metadata": {},
   "outputs": [
    {
     "name": "stdout",
     "output_type": "stream",
     "text": [
      "<class 'str'>\n"
     ]
    }
   ],
   "source": [
    "tupla = (\"Lunes\")\n",
    "print(type(tupla))"
   ]
  },
  {
   "cell_type": "code",
   "execution_count": 12,
   "id": "4088755e-c583-4e63-854b-84c47425e798",
   "metadata": {},
   "outputs": [
    {
     "name": "stdout",
     "output_type": "stream",
     "text": [
      "<class 'tuple'>\n"
     ]
    }
   ],
   "source": [
    "tupla = (\"Lunes\",)\n",
    "print(type(tupla))"
   ]
  },
  {
   "cell_type": "code",
   "execution_count": 13,
   "id": "dc3ddc55-774d-487d-871c-f19114bcac2a",
   "metadata": {},
   "outputs": [
    {
     "name": "stdout",
     "output_type": "stream",
     "text": [
      "<class 'tuple'>\n",
      "('Lunes', 'Martes')\n"
     ]
    }
   ],
   "source": [
    "tupla = (\"Lunes\", \"Martes\")\n",
    "print(type(tupla))\n",
    "print(tupla)"
   ]
  },
  {
   "cell_type": "code",
   "execution_count": 1,
   "id": "64a3fb08-d371-4546-945f-fab3e94817e7",
   "metadata": {},
   "outputs": [],
   "source": [
    "## Para obtener un valor por su índice se hace igual que en listas. Para un rango de valores también.\n",
    "## De igual forma para recorrer con un for"
   ]
  },
  {
   "cell_type": "code",
   "execution_count": 2,
   "id": "a0e2bdd7-e994-41f3-b1b4-db4750b41337",
   "metadata": {},
   "outputs": [],
   "source": [
    "## Diccionarios"
   ]
  },
  {
   "cell_type": "code",
   "execution_count": 3,
   "id": "b950150e-a3a3-4045-85e7-fdd0954fd6b7",
   "metadata": {},
   "outputs": [
    {
     "name": "stdout",
     "output_type": "stream",
     "text": [
      "{1: 'Lunes', 2: 'Martes', 3: 'Miércoles', 4: 'Jueves', 5: 'Viernes'}\n"
     ]
    }
   ],
   "source": [
    "diccionario = {1:\"Lunes\", 2:\"Martes\", 3:\"Miércoles\", 4:\"Jueves\", 5:\"Viernes\"}\n",
    "print(diccionario)"
   ]
  },
  {
   "cell_type": "code",
   "execution_count": 4,
   "id": "57878a5c-92f1-4390-9051-0646487d41e9",
   "metadata": {},
   "outputs": [
    {
     "name": "stdout",
     "output_type": "stream",
     "text": [
      "{1: 'Lunes', 'nombre': 'Juan'}\n"
     ]
    }
   ],
   "source": [
    "diccionario = {1:\"Lunes\", \"nombre\":\"Juan\"}\n",
    "print(diccionario)"
   ]
  },
  {
   "cell_type": "code",
   "execution_count": 5,
   "id": "751178b5-a3b7-4e71-82a8-168a3c0e29e7",
   "metadata": {},
   "outputs": [
    {
     "name": "stdout",
     "output_type": "stream",
     "text": [
      "{1: 'Lunes', 'nombre': ['Juan', 'Pedro']}\n"
     ]
    }
   ],
   "source": [
    "diccionario = {1:\"Lunes\", \"nombre\":[\"Juan\",\"Pedro\"]}\n",
    "print(diccionario)"
   ]
  },
  {
   "cell_type": "code",
   "execution_count": 6,
   "id": "754673bc-39ee-457d-accc-b66f7ad57f01",
   "metadata": {},
   "outputs": [],
   "source": [
    "diccionario = {\"nombre\":\"Juan\", \"edad\":27, \"pais\":\"Perú\"}"
   ]
  },
  {
   "cell_type": "code",
   "execution_count": 10,
   "id": "6e538aae-6da4-4c79-8b46-acb370f4c46b",
   "metadata": {},
   "outputs": [
    {
     "name": "stdout",
     "output_type": "stream",
     "text": [
      "Juan\n",
      "Juan\n"
     ]
    }
   ],
   "source": [
    "print(diccionario[\"nombre\"])\n",
    "print(diccionario.get(\"nombre\"))"
   ]
  },
  {
   "cell_type": "code",
   "execution_count": 11,
   "id": "6f6edccf-afe9-462f-8b70-7177d2c7d17d",
   "metadata": {},
   "outputs": [
    {
     "ename": "KeyError",
     "evalue": "'telefono'",
     "output_type": "error",
     "traceback": [
      "\u001b[0;31m---------------------------------------------------------------------------\u001b[0m",
      "\u001b[0;31mKeyError\u001b[0m                                  Traceback (most recent call last)",
      "Cell \u001b[0;32mIn[11], line 1\u001b[0m\n\u001b[0;32m----> 1\u001b[0m \u001b[38;5;28mprint\u001b[39m(\u001b[43mdiccionario\u001b[49m\u001b[43m[\u001b[49m\u001b[38;5;124;43m\"\u001b[39;49m\u001b[38;5;124;43mtelefono\u001b[39;49m\u001b[38;5;124;43m\"\u001b[39;49m\u001b[43m]\u001b[49m)\n",
      "\u001b[0;31mKeyError\u001b[0m: 'telefono'"
     ]
    }
   ],
   "source": [
    "print(diccionario[\"telefono\"])"
   ]
  },
  {
   "cell_type": "code",
   "execution_count": 12,
   "id": "c822ded3-6bdf-4a61-ae2d-bbe294a70f4a",
   "metadata": {},
   "outputs": [
    {
     "name": "stdout",
     "output_type": "stream",
     "text": [
      "None\n"
     ]
    }
   ],
   "source": [
    "print(diccionario.get(\"telefono\"))"
   ]
  },
  {
   "cell_type": "code",
   "execution_count": 14,
   "id": "78c4e115-5850-466b-90fc-7717aaceb974",
   "metadata": {},
   "outputs": [
    {
     "name": "stdout",
     "output_type": "stream",
     "text": [
      "{'nombre': 'Pedro', 'edad': 27, 'pais': 'Perú'}\n"
     ]
    }
   ],
   "source": [
    "diccionario[\"nombre\"] = \"Pedro\"\n",
    "print(diccionario)"
   ]
  },
  {
   "cell_type": "code",
   "execution_count": 15,
   "id": "484cdd91-75c3-48d1-a8c5-e3c3e7a4ba12",
   "metadata": {},
   "outputs": [
    {
     "name": "stdout",
     "output_type": "stream",
     "text": [
      "{'nombre': 'Pedro', 'edad': 27, 'pais': 'Perú', 'telefono': '9999999'}\n"
     ]
    }
   ],
   "source": [
    "diccionario[\"telefono\"] = \"9999999\"\n",
    "print(diccionario)"
   ]
  },
  {
   "cell_type": "code",
   "execution_count": 16,
   "id": "1b09c285-88a0-472e-8181-43baad8c8bbf",
   "metadata": {},
   "outputs": [
    {
     "name": "stdout",
     "output_type": "stream",
     "text": [
      "Pedro\n",
      "27\n",
      "Perú\n",
      "9999999\n"
     ]
    }
   ],
   "source": [
    "for clave in diccionario:\n",
    "    print(diccionario[clave])"
   ]
  },
  {
   "cell_type": "code",
   "execution_count": 17,
   "id": "62594258-b402-4b35-9584-2421cfbd4181",
   "metadata": {},
   "outputs": [],
   "source": [
    "## Control de flujo"
   ]
  },
  {
   "cell_type": "code",
   "execution_count": 1,
   "id": "770e12ba-e405-43a6-9801-1863222e81d0",
   "metadata": {},
   "outputs": [
    {
     "name": "stdout",
     "output_type": "stream",
     "text": [
      "La variable es negativa\n",
      "Esta línea siempre se imprime\n"
     ]
    }
   ],
   "source": [
    "num = -3\n",
    "if num > 0:\n",
    "    print(\"La variable es positiva\")\n",
    "else:\n",
    "    print(\"La variable es negativa\")\n",
    "\n",
    "print(\"Esta línea siempre se imprime\")"
   ]
  },
  {
   "cell_type": "code",
   "execution_count": 4,
   "id": "b8b90954-8f41-4034-8165-04ce5eab6fd2",
   "metadata": {},
   "outputs": [
    {
     "name": "stdout",
     "output_type": "stream",
     "text": [
      "El número es negativo\n"
     ]
    }
   ],
   "source": [
    "num = -5\n",
    "if num >= 0:\n",
    "    if num == 0:\n",
    "        print(\"El número es cero\")\n",
    "    else:\n",
    "        print(\"El número es positivo\")\n",
    "else:\n",
    "    print(\"El número es negativo\")"
   ]
  },
  {
   "cell_type": "code",
   "execution_count": 5,
   "id": "bc2944b9-080a-4c33-89df-3e9077d6d7ed",
   "metadata": {},
   "outputs": [],
   "source": [
    "## For"
   ]
  },
  {
   "cell_type": "code",
   "execution_count": 7,
   "id": "7043fe04-dc8b-4805-9321-1508edd72943",
   "metadata": {},
   "outputs": [
    {
     "name": "stdout",
     "output_type": "stream",
     "text": [
      "1\n",
      "2\n",
      "3\n",
      "4\n",
      "5\n"
     ]
    }
   ],
   "source": [
    "numeros = [1,2,3,4,5]\n",
    "for num in numeros:\n",
    "    print(num)"
   ]
  },
  {
   "cell_type": "code",
   "execution_count": 9,
   "id": "8dbe435d-463b-49d9-a2c6-889508341bdf",
   "metadata": {},
   "outputs": [
    {
     "name": "stdout",
     "output_type": "stream",
     "text": [
      "15\n"
     ]
    }
   ],
   "source": [
    "suma = 0\n",
    "for num in numeros:\n",
    "    suma = suma + num\n",
    "\n",
    "print(suma)"
   ]
  },
  {
   "cell_type": "code",
   "execution_count": 10,
   "id": "03588281-6337-4e0a-a2ab-a06253e11d89",
   "metadata": {},
   "outputs": [],
   "source": [
    "## While"
   ]
  },
  {
   "cell_type": "code",
   "execution_count": 11,
   "id": "e2e99acd-817d-42c9-9107-8736aee7bad9",
   "metadata": {},
   "outputs": [
    {
     "name": "stdout",
     "output_type": "stream",
     "text": [
      "15\n"
     ]
    }
   ],
   "source": [
    "num = 5\n",
    "i = 1\n",
    "suma = 0\n",
    "\n",
    "while i <= num:\n",
    "    suma = suma + i\n",
    "    i = i + 1\n",
    "\n",
    "print(suma)"
   ]
  },
  {
   "cell_type": "code",
   "execution_count": 13,
   "id": "7ff2c019-13ff-4e7e-b4d6-5d63e41e59c7",
   "metadata": {},
   "outputs": [
    {
     "name": "stdout",
     "output_type": "stream",
     "text": [
      "c\n",
      "a\n",
      "d\n",
      "e\n"
     ]
    }
   ],
   "source": [
    "for val in \"cadena\":\n",
    "    if val == \"n\":\n",
    "        break\n",
    "    print(val)"
   ]
  },
  {
   "cell_type": "code",
   "execution_count": 14,
   "id": "09c94a89-8dab-40aa-96d6-b3cad6f94374",
   "metadata": {},
   "outputs": [
    {
     "name": "stdout",
     "output_type": "stream",
     "text": [
      "c\n",
      "a\n",
      "d\n",
      "e\n",
      "n\n",
      "a\n"
     ]
    }
   ],
   "source": [
    "for val in \"cadena\":\n",
    "    if val == \"n\":\n",
    "        pass\n",
    "    print(val)"
   ]
  },
  {
   "cell_type": "code",
   "execution_count": 1,
   "id": "29da5bbe-e4ba-45d4-ad63-77f9b3e0794f",
   "metadata": {},
   "outputs": [],
   "source": [
    "## Funciones"
   ]
  },
  {
   "cell_type": "code",
   "execution_count": 2,
   "id": "8bf0126f-ff92-4ace-9599-f40309891c10",
   "metadata": {},
   "outputs": [],
   "source": [
    "def mi_funcion():\n",
    "    pass"
   ]
  },
  {
   "cell_type": "code",
   "execution_count": 5,
   "id": "d9958957-aaeb-4d7f-aa12-b2632d807810",
   "metadata": {},
   "outputs": [],
   "source": [
    "def fn_suma(a, b):\n",
    "    suma = a + b\n",
    "    return suma"
   ]
  },
  {
   "cell_type": "code",
   "execution_count": 6,
   "id": "aa383e6e-5947-4815-b742-39e37100516c",
   "metadata": {},
   "outputs": [
    {
     "data": {
      "text/plain": [
       "8"
      ]
     },
     "execution_count": 6,
     "metadata": {},
     "output_type": "execute_result"
    }
   ],
   "source": [
    "fn_suma(5,3)"
   ]
  },
  {
   "cell_type": "code",
   "execution_count": 7,
   "id": "aa81967f-70e1-495b-9cf7-2ecd747b4f14",
   "metadata": {},
   "outputs": [],
   "source": [
    "def fn_saludo(nombre):\n",
    "    return \"Hola \" + nombre"
   ]
  },
  {
   "cell_type": "code",
   "execution_count": 8,
   "id": "2730e728-36e6-49e6-94fe-84537bbb1ed5",
   "metadata": {},
   "outputs": [
    {
     "data": {
      "text/plain": [
       "'Hola Richard'"
      ]
     },
     "execution_count": 8,
     "metadata": {},
     "output_type": "execute_result"
    }
   ],
   "source": [
    "fn_saludo(\"Richard\")"
   ]
  },
  {
   "cell_type": "code",
   "execution_count": null,
   "id": "898fd193-53fb-4a5e-ba6c-b3ddfd19dbc4",
   "metadata": {},
   "outputs": [],
   "source": []
  }
 ],
 "metadata": {
  "kernelspec": {
   "display_name": "Python 3 (ipykernel)",
   "language": "python",
   "name": "python3"
  },
  "language_info": {
   "codemirror_mode": {
    "name": "ipython",
    "version": 3
   },
   "file_extension": ".py",
   "mimetype": "text/x-python",
   "name": "python",
   "nbconvert_exporter": "python",
   "pygments_lexer": "ipython3",
   "version": "3.9.19"
  }
 },
 "nbformat": 4,
 "nbformat_minor": 5
}
